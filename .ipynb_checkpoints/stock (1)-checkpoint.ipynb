{
 "cells": [
  {
   "cell_type": "markdown",
   "metadata": {
    "id": "BTYNgysrrcQS"
   },
   "source": [
    "\n",
    "\n",
    "```\n",
    "`# This is formatted as code`\n",
    "```\n",
    "\n",
    "This program use an artificial recurrent neural network (RNN) called Long Short Term Memory(LSTM). to ptrdict the closing stock price of a corporation(Apple Inc.) using past 100 days stock price.\n"
   ]
  },
  {
   "cell_type": "markdown",
   "metadata": {
    "id": "RACiBob-rcQg"
   },
   "source": [
    "# Import the Libraries"
   ]
  },
  {
   "cell_type": "code",
   "execution_count": 1,
   "metadata": {
    "id": "if2e4nNRrcQj"
   },
   "outputs": [],
   "source": [
    "import math\n",
    "import pandas_datareader as pdr\n",
    "import numpy as np\n",
    "import pandas as pd\n",
    "import matplotlib.pyplot as plt\n",
    "plt.style.use('fivethirtyeight')\n",
    "\n",
    "from sklearn.preprocessing import MinMaxScaler\n",
    "\n",
    "import tensorflow as tf\n",
    "#building the RNN\n",
    "#Importing the keras libraries and packages\n",
    "from tensorflow.keras.models import Sequential\n",
    "from tensorflow.keras.layers import Dense\n",
    "from tensorflow.keras.layers import LSTM\n",
    "\n",
    "### Create the Stacked LSTM model"
   ]
  },
  {
   "cell_type": "code",
   "execution_count": 2,
   "metadata": {
    "colab": {
     "base_uri": "https://localhost:8080/",
     "height": 204
    },
    "id": "MupQnXZhrcQq",
    "outputId": "ae89a620-043c-4875-e2f9-6531c06d8e67"
   },
   "outputs": [
    {
     "data": {
      "text/html": [
       "<div>\n",
       "<style scoped>\n",
       "    .dataframe tbody tr th:only-of-type {\n",
       "        vertical-align: middle;\n",
       "    }\n",
       "\n",
       "    .dataframe tbody tr th {\n",
       "        vertical-align: top;\n",
       "    }\n",
       "\n",
       "    .dataframe thead th {\n",
       "        text-align: right;\n",
       "    }\n",
       "</style>\n",
       "<table border=\"1\" class=\"dataframe\">\n",
       "  <thead>\n",
       "    <tr style=\"text-align: right;\">\n",
       "      <th></th>\n",
       "      <th>symbol</th>\n",
       "      <th>date</th>\n",
       "      <th>close</th>\n",
       "      <th>high</th>\n",
       "      <th>low</th>\n",
       "      <th>open</th>\n",
       "      <th>volume</th>\n",
       "      <th>adjClose</th>\n",
       "      <th>adjHigh</th>\n",
       "      <th>adjLow</th>\n",
       "      <th>adjOpen</th>\n",
       "      <th>adjVolume</th>\n",
       "      <th>divCash</th>\n",
       "      <th>splitFactor</th>\n",
       "    </tr>\n",
       "  </thead>\n",
       "  <tbody>\n",
       "    <tr>\n",
       "      <th>0</th>\n",
       "      <td>AAPL</td>\n",
       "      <td>2016-10-19 00:00:00+00:00</td>\n",
       "      <td>117.12</td>\n",
       "      <td>117.76</td>\n",
       "      <td>113.80</td>\n",
       "      <td>117.25</td>\n",
       "      <td>20034594</td>\n",
       "      <td>27.455011</td>\n",
       "      <td>27.605038</td>\n",
       "      <td>26.676744</td>\n",
       "      <td>27.485485</td>\n",
       "      <td>80138376</td>\n",
       "      <td>0.0</td>\n",
       "      <td>1.0</td>\n",
       "    </tr>\n",
       "    <tr>\n",
       "      <th>1</th>\n",
       "      <td>AAPL</td>\n",
       "      <td>2016-10-20 00:00:00+00:00</td>\n",
       "      <td>117.06</td>\n",
       "      <td>117.38</td>\n",
       "      <td>116.33</td>\n",
       "      <td>116.86</td>\n",
       "      <td>24125801</td>\n",
       "      <td>27.440945</td>\n",
       "      <td>27.515959</td>\n",
       "      <td>27.269821</td>\n",
       "      <td>27.394062</td>\n",
       "      <td>96503204</td>\n",
       "      <td>0.0</td>\n",
       "      <td>1.0</td>\n",
       "    </tr>\n",
       "    <tr>\n",
       "      <th>2</th>\n",
       "      <td>AAPL</td>\n",
       "      <td>2016-10-21 00:00:00+00:00</td>\n",
       "      <td>116.60</td>\n",
       "      <td>116.91</td>\n",
       "      <td>116.28</td>\n",
       "      <td>116.81</td>\n",
       "      <td>23192665</td>\n",
       "      <td>27.333113</td>\n",
       "      <td>27.405783</td>\n",
       "      <td>27.258100</td>\n",
       "      <td>27.382341</td>\n",
       "      <td>92770660</td>\n",
       "      <td>0.0</td>\n",
       "      <td>1.0</td>\n",
       "    </tr>\n",
       "    <tr>\n",
       "      <th>3</th>\n",
       "      <td>AAPL</td>\n",
       "      <td>2016-10-24 00:00:00+00:00</td>\n",
       "      <td>117.65</td>\n",
       "      <td>117.74</td>\n",
       "      <td>117.00</td>\n",
       "      <td>117.10</td>\n",
       "      <td>23538673</td>\n",
       "      <td>27.579252</td>\n",
       "      <td>27.600350</td>\n",
       "      <td>27.426880</td>\n",
       "      <td>27.450322</td>\n",
       "      <td>94154692</td>\n",
       "      <td>0.0</td>\n",
       "      <td>1.0</td>\n",
       "    </tr>\n",
       "    <tr>\n",
       "      <th>4</th>\n",
       "      <td>AAPL</td>\n",
       "      <td>2016-10-25 00:00:00+00:00</td>\n",
       "      <td>118.25</td>\n",
       "      <td>118.36</td>\n",
       "      <td>117.31</td>\n",
       "      <td>117.95</td>\n",
       "      <td>48128970</td>\n",
       "      <td>27.719903</td>\n",
       "      <td>27.745689</td>\n",
       "      <td>27.499550</td>\n",
       "      <td>27.649577</td>\n",
       "      <td>192515880</td>\n",
       "      <td>0.0</td>\n",
       "      <td>1.0</td>\n",
       "    </tr>\n",
       "  </tbody>\n",
       "</table>\n",
       "</div>"
      ],
      "text/plain": [
       "  symbol                       date   close  ...  adjVolume  divCash  splitFactor\n",
       "0   AAPL  2016-10-19 00:00:00+00:00  117.12  ...   80138376      0.0          1.0\n",
       "1   AAPL  2016-10-20 00:00:00+00:00  117.06  ...   96503204      0.0          1.0\n",
       "2   AAPL  2016-10-21 00:00:00+00:00  116.60  ...   92770660      0.0          1.0\n",
       "3   AAPL  2016-10-24 00:00:00+00:00  117.65  ...   94154692      0.0          1.0\n",
       "4   AAPL  2016-10-25 00:00:00+00:00  118.25  ...  192515880      0.0          1.0\n",
       "\n",
       "[5 rows x 14 columns]"
      ]
     },
     "execution_count": 2,
     "metadata": {},
     "output_type": "execute_result"
    }
   ],
   "source": [
    "key='type your own'\n",
    "df = pdr.get_data_tiingo('AAPL', api_key=key)\n",
    "df.to_csv('AAPL.csv')\n",
    "df=pd.read_csv('AAPL.csv')\n",
    "df.head()"
   ]
  },
  {
   "cell_type": "code",
   "execution_count": null,
   "metadata": {
    "id": "A1dieqXnrcQv",
    "outputId": "9480fa76-c91d-41fb-e116-1244431298c5"
   },
   "outputs": [
    {
     "name": "stdout",
     "output_type": "stream",
     "text": [
      "<class 'pandas.core.frame.DataFrame'>\n",
      "RangeIndex: 1257 entries, 0 to 1256\n",
      "Data columns (total 14 columns):\n",
      " #   Column       Non-Null Count  Dtype  \n",
      "---  ------       --------------  -----  \n",
      " 0   symbol       1257 non-null   object \n",
      " 1   date         1257 non-null   object \n",
      " 2   close        1257 non-null   float64\n",
      " 3   high         1257 non-null   float64\n",
      " 4   low          1257 non-null   float64\n",
      " 5   open         1257 non-null   float64\n",
      " 6   volume       1257 non-null   int64  \n",
      " 7   adjClose     1257 non-null   float64\n",
      " 8   adjHigh      1257 non-null   float64\n",
      " 9   adjLow       1257 non-null   float64\n",
      " 10  adjOpen      1257 non-null   float64\n",
      " 11  adjVolume    1257 non-null   int64  \n",
      " 12  divCash      1257 non-null   float64\n",
      " 13  splitFactor  1257 non-null   float64\n",
      "dtypes: float64(10), int64(2), object(2)\n",
      "memory usage: 137.6+ KB\n"
     ]
    }
   ],
   "source": [
    "df.info()"
   ]
  },
  {
   "cell_type": "code",
   "execution_count": 3,
   "metadata": {
    "colab": {
     "base_uri": "https://localhost:8080/",
     "height": 518
    },
    "id": "0pnvdiOurcQy",
    "outputId": "aab0dcf7-dc32-4e4c-89d1-230002a05a2f"
   },
   "outputs": [
    {
     "data": {
      "image/png": "[encoded data removed]",
      "text/plain": [
       "<Figure size 1152x576 with 1 Axes>"
      ]
     },
     "metadata": {
      "needs_background": "light"
     },
     "output_type": "display_data"
    }
   ],
   "source": [
    "\n",
    "#visualize the closing price history\n",
    "plt.figure(figsize=(16,8))\n",
    "plt.title('close price history')\n",
    "plt.plot(df['close'])\n",
    "plt.xlabel('Date',fontsize=18)\n",
    "plt.ylabel('close price USD ($)', fontsize=18)\n",
    "plt.show()"
   ]
  },
  {
   "cell_type": "code",
   "execution_count": 4,
   "metadata": {
    "id": "hdMGEg-ircQ1"
   },
   "outputs": [],
   "source": [
    "#create a new dataframe with only the \"close\" column\n",
    "df1=df.reset_index()['close']\n",
    "#convert dtafrme to numpy array\n",
    "\n"
   ]
  },
  {
   "cell_type": "code",
   "execution_count": 5,
   "metadata": {
    "colab": {
     "base_uri": "https://localhost:8080/"
    },
    "id": "0iNW1pgJrcQ6",
    "outputId": "cf076a21-26dd-4063-c60b-097da3c08ce0"
   },
   "outputs": [
    {
     "data": {
      "text/plain": [
       "array([[0.02849793],\n",
       "       [0.02834807],\n",
       "       [0.02719916],\n",
       "       ...,\n",
       "       [0.08791648],\n",
       "       [0.09503472],\n",
       "       [0.09773215]])"
      ]
     },
     "execution_count": 5,
     "metadata": {},
     "output_type": "execute_result"
    }
   ],
   "source": [
    "### LSTM are sensitive to the scale of the data. so we apply MinMax scaler\n",
    "\n",
    "scaler=MinMaxScaler(feature_range=(0,1))\n",
    "df1=scaler.fit_transform(np.array(df1).reshape(-1,1))\n",
    "df1"
   ]
  },
  {
   "cell_type": "code",
   "execution_count": 6,
   "metadata": {
    "colab": {
     "base_uri": "https://localhost:8080/"
    },
    "id": "ufusV958rcQ-",
    "outputId": "2d826d8b-f556-4af4-ddb0-70866ee8949e"
   },
   "outputs": [
    {
     "data": {
      "text/plain": [
       "(754, 503)"
      ]
     },
     "execution_count": 6,
     "metadata": {},
     "output_type": "execute_result"
    }
   ],
   "source": [
    "\n",
    "#create the scaled training data set\n",
    "##splitting dataset into train and test split\n",
    "training_size=int(len(df1)*0.60)\n",
    "test_size=len(df1)-training_size\n",
    "train_data,test_data=df1[0:training_size,:],df1[training_size:len(df1),:1]\n",
    "training_size,test_size"
   ]
  },
  {
   "cell_type": "code",
   "execution_count": 7,
   "metadata": {
    "id": "sESClJaorcRB"
   },
   "outputs": [],
   "source": [
    "import numpy\n",
    "# convert an array of values into a dataset matrix\n",
    "def create_dataset(dataset, time_step=1):\n",
    "\tdataX, dataY = [], []\n",
    "\tfor i in range(len(dataset)-time_step-1):\n",
    "\t\ta = dataset[i:(i+time_step), 0]   ###i=0, 0,1,2,3-----99   100 \n",
    "\t\tdataX.append(a)\n",
    "\t\tdataY.append(dataset[i + time_step, 0])\n",
    "\treturn numpy.array(dataX), numpy.array(dataY)"
   ]
  },
  {
   "cell_type": "code",
   "execution_count": 8,
   "metadata": {
    "id": "WfLX6filrcRE"
   },
   "outputs": [],
   "source": [
    "# reshape into X=t,t+1,t+2,t+3 and Y=t+4\n",
    "time_step = 100\n",
    "X_train, y_train = create_dataset(train_data, time_step)\n"
   ]
  },
  {
   "cell_type": "code",
   "execution_count": 9,
   "metadata": {
    "colab": {
     "base_uri": "https://localhost:8080/"
    },
    "id": "MvjbM4vTrcRF",
    "outputId": "7dc25d1a-a85b-41f7-d112-a51af458ff59"
   },
   "outputs": [
    {
     "name": "stdout",
     "output_type": "stream",
     "text": [
      "(653, 100)\n",
      "(653,)\n"
     ]
    },
    {
     "data": {
      "text/plain": [
       "(None, None)"
      ]
     },
     "execution_count": 9,
     "metadata": {},
     "output_type": "execute_result"
    }
   ],
   "source": [
    "print(X_train.shape), print(y_train.shape)"
   ]
  },
  {
   "cell_type": "code",
   "execution_count": 10,
   "metadata": {
    "id": "pzLBN_W1rcRG"
   },
   "outputs": [],
   "source": [
    "# reshape input to be [samples, time steps, features] which is required for LSTM\n",
    "X_train =X_train.reshape(X_train.shape[0],X_train.shape[1] , 1)\n"
   ]
  },
  {
   "cell_type": "code",
   "execution_count": 11,
   "metadata": {
    "id": "mshBR_sSrcRH"
   },
   "outputs": [],
   "source": [
    "### Create the Stacked LSTM model\n",
    "\n",
    "\n",
    "model=Sequential()\n",
    "model.add(LSTM(50,return_sequences=True,input_shape=(100,1)))\n",
    "model.add(LSTM(50,return_sequences=True))\n",
    "model.add(LSTM(50))\n",
    "#model.add(Dense(25))\n",
    "model.add(Dense(1))\n"
   ]
  },
  {
   "cell_type": "code",
   "execution_count": 12,
   "metadata": {
    "id": "9cVAWdxIrcRJ"
   },
   "outputs": [],
   "source": [
    "#compile the model\n",
    "model.compile(loss='mean_squared_error',optimizer='adam')"
   ]
  },
  {
   "cell_type": "code",
   "execution_count": 13,
   "metadata": {
    "colab": {
     "base_uri": "https://localhost:8080/"
    },
    "id": "hmVm28JSrcRK",
    "outputId": "c73e561c-f0dc-48ed-f8cf-1ba583c2ef4c"
   },
   "outputs": [
    {
     "name": "stdout",
     "output_type": "stream",
     "text": [
      "Model: \"sequential\"\n",
      "_________________________________________________________________\n",
      "Layer (type)                 Output Shape              Param #   \n",
      "=================================================================\n",
      "lstm (LSTM)                  (None, 100, 50)           10400     \n",
      "_________________________________________________________________\n",
      "lstm_1 (LSTM)                (None, 100, 50)           20200     \n",
      "_________________________________________________________________\n",
      "lstm_2 (LSTM)                (None, 50)                20200     \n",
      "_________________________________________________________________\n",
      "dense (Dense)                (None, 1)                 51        \n",
      "=================================================================\n",
      "Total params: 50,851\n",
      "Trainable params: 50,851\n",
      "Non-trainable params: 0\n",
      "_________________________________________________________________\n"
     ]
    }
   ],
   "source": [
    "model.summary()"
   ]
  },
  {
   "cell_type": "code",
   "execution_count": 15,
   "metadata": {
    "id": "04EjMkUnrcRM"
   },
   "outputs": [],
   "source": [
    "#for test set"
   ]
  },
  {
   "cell_type": "code",
   "execution_count": 16,
   "metadata": {
    "id": "QR2op3a0rcRN"
   },
   "outputs": [],
   "source": [
    "# reshape into X=t,t+1,t+2,t+3 and Y=t+4\n",
    "time_step = 100\n",
    "X_test, ytest = create_dataset(test_data, time_step)"
   ]
  },
  {
   "cell_type": "code",
   "execution_count": 17,
   "metadata": {
    "colab": {
     "base_uri": "https://localhost:8080/"
    },
    "id": "t-6uCxWsrcRO",
    "outputId": "19e976b2-d58f-4d58-c85b-05417e3c1f86"
   },
   "outputs": [
    {
     "name": "stdout",
     "output_type": "stream",
     "text": [
      "(402, 100)\n",
      "(402,)\n"
     ]
    },
    {
     "data": {
      "text/plain": [
       "(None, None)"
      ]
     },
     "execution_count": 17,
     "metadata": {},
     "output_type": "execute_result"
    }
   ],
   "source": [
    "print(X_test.shape), print(ytest.shape)"
   ]
  },
  {
   "cell_type": "code",
   "execution_count": 18,
   "metadata": {
    "id": "5XStIaBqrcRP"
   },
   "outputs": [],
   "source": [
    "# reshape input to be [samples, time steps, features] which is required for LSTM\n",
    "X_test = X_test.reshape(X_test.shape[0],X_test.shape[1] , 1)"
   ]
  },
  {
   "cell_type": "code",
   "execution_count": 20,
   "metadata": {
    "colab": {
     "base_uri": "https://localhost:8080/"
    },
    "id": "nbjklwbMrcRL",
    "outputId": "8a855892-cf2b-4fd3-f4c4-7d7d4b9459b9"
   },
   "outputs": [
    {
     "name": "stdout",
     "output_type": "stream",
     "text": [
      "Epoch 1/100\n",
      "11/11 [==============================] - 9s 359ms/step - loss: 0.0104 - val_loss: 0.0333\n",
      "Epoch 2/100\n",
      "11/11 [==============================] - 2s 209ms/step - loss: 0.0021 - val_loss: 0.0263\n",
      "Epoch 3/100\n",
      "11/11 [==============================] - 2s 208ms/step - loss: 0.0017 - val_loss: 0.0281\n",
      "Epoch 4/100\n",
      "11/11 [==============================] - 2s 208ms/step - loss: 0.0010 - val_loss: 0.0210\n",
      "Epoch 5/100\n",
      "11/11 [==============================] - 2s 211ms/step - loss: 7.3699e-04 - val_loss: 0.0180\n",
      "Epoch 6/100\n",
      "11/11 [==============================] - 2s 207ms/step - loss: 5.0986e-04 - val_loss: 0.0185\n",
      "Epoch 7/100\n",
      "11/11 [==============================] - 2s 209ms/step - loss: 4.6223e-04 - val_loss: 0.0185\n",
      "Epoch 8/100\n",
      "11/11 [==============================] - 2s 215ms/step - loss: 4.5412e-04 - val_loss: 0.0172\n",
      "Epoch 9/100\n",
      "11/11 [==============================] - 2s 210ms/step - loss: 4.4968e-04 - val_loss: 0.0166\n",
      "Epoch 10/100\n",
      "11/11 [==============================] - 2s 214ms/step - loss: 4.0809e-04 - val_loss: 0.0162\n",
      "Epoch 11/100\n",
      "11/11 [==============================] - 2s 216ms/step - loss: 4.0899e-04 - val_loss: 0.0157\n",
      "Epoch 12/100\n",
      "11/11 [==============================] - 2s 224ms/step - loss: 3.8544e-04 - val_loss: 0.0153\n",
      "Epoch 13/100\n",
      "11/11 [==============================] - 2s 218ms/step - loss: 3.8229e-04 - val_loss: 0.0155\n",
      "Epoch 14/100\n",
      "11/11 [==============================] - 2s 230ms/step - loss: 3.7025e-04 - val_loss: 0.0168\n",
      "Epoch 15/100\n",
      "11/11 [==============================] - 2s 215ms/step - loss: 3.8300e-04 - val_loss: 0.0158\n",
      "Epoch 16/100\n",
      "11/11 [==============================] - 2s 219ms/step - loss: 3.3201e-04 - val_loss: 0.0143\n",
      "Epoch 17/100\n",
      "11/11 [==============================] - 2s 220ms/step - loss: 3.5238e-04 - val_loss: 0.0136\n",
      "Epoch 18/100\n",
      "11/11 [==============================] - 2s 213ms/step - loss: 3.1982e-04 - val_loss: 0.0140\n",
      "Epoch 19/100\n",
      "11/11 [==============================] - 2s 209ms/step - loss: 2.9692e-04 - val_loss: 0.0141\n",
      "Epoch 20/100\n",
      "11/11 [==============================] - 2s 214ms/step - loss: 2.8207e-04 - val_loss: 0.0143\n",
      "Epoch 21/100\n",
      "11/11 [==============================] - 2s 210ms/step - loss: 2.7945e-04 - val_loss: 0.0138\n",
      "Epoch 22/100\n",
      "11/11 [==============================] - 2s 213ms/step - loss: 2.8005e-04 - val_loss: 0.0133\n",
      "Epoch 23/100\n",
      "11/11 [==============================] - 2s 213ms/step - loss: 2.8194e-04 - val_loss: 0.0147\n",
      "Epoch 24/100\n",
      "11/11 [==============================] - 2s 210ms/step - loss: 2.8359e-04 - val_loss: 0.0129\n",
      "Epoch 25/100\n",
      "11/11 [==============================] - 2s 205ms/step - loss: 2.6548e-04 - val_loss: 0.0132\n",
      "Epoch 26/100\n",
      "11/11 [==============================] - 2s 211ms/step - loss: 2.6546e-04 - val_loss: 0.0134\n",
      "Epoch 27/100\n",
      "11/11 [==============================] - 2s 210ms/step - loss: 2.7532e-04 - val_loss: 0.0118\n",
      "Epoch 28/100\n",
      "11/11 [==============================] - 2s 210ms/step - loss: 2.4993e-04 - val_loss: 0.0128\n",
      "Epoch 29/100\n",
      "11/11 [==============================] - 2s 209ms/step - loss: 2.4979e-04 - val_loss: 0.0120\n",
      "Epoch 30/100\n",
      "11/11 [==============================] - 2s 210ms/step - loss: 2.4511e-04 - val_loss: 0.0124\n",
      "Epoch 31/100\n",
      "11/11 [==============================] - 2s 208ms/step - loss: 2.6301e-04 - val_loss: 0.0116\n",
      "Epoch 32/100\n",
      "11/11 [==============================] - 2s 210ms/step - loss: 2.6054e-04 - val_loss: 0.0113\n",
      "Epoch 33/100\n",
      "11/11 [==============================] - 2s 209ms/step - loss: 2.3920e-04 - val_loss: 0.0114\n",
      "Epoch 34/100\n",
      "11/11 [==============================] - 2s 207ms/step - loss: 2.2854e-04 - val_loss: 0.0110\n",
      "Epoch 35/100\n",
      "11/11 [==============================] - 2s 208ms/step - loss: 2.3117e-04 - val_loss: 0.0116\n",
      "Epoch 36/100\n",
      "11/11 [==============================] - 2s 208ms/step - loss: 2.2477e-04 - val_loss: 0.0107\n",
      "Epoch 37/100\n",
      "11/11 [==============================] - 2s 206ms/step - loss: 2.3433e-04 - val_loss: 0.0106\n",
      "Epoch 38/100\n",
      "11/11 [==============================] - 2s 206ms/step - loss: 2.2414e-04 - val_loss: 0.0104\n",
      "Epoch 39/100\n",
      "11/11 [==============================] - 2s 208ms/step - loss: 2.1601e-04 - val_loss: 0.0103\n",
      "Epoch 40/100\n",
      "11/11 [==============================] - 2s 207ms/step - loss: 2.2741e-04 - val_loss: 0.0102\n",
      "Epoch 41/100\n",
      "11/11 [==============================] - 2s 208ms/step - loss: 2.1255e-04 - val_loss: 0.0101\n",
      "Epoch 42/100\n",
      "11/11 [==============================] - 2s 207ms/step - loss: 2.0868e-04 - val_loss: 0.0099\n",
      "Epoch 43/100\n",
      "11/11 [==============================] - 2s 204ms/step - loss: 2.0941e-04 - val_loss: 0.0099\n",
      "Epoch 44/100\n",
      "11/11 [==============================] - 2s 208ms/step - loss: 2.1512e-04 - val_loss: 0.0102\n",
      "Epoch 45/100\n",
      "11/11 [==============================] - 2s 208ms/step - loss: 2.0564e-04 - val_loss: 0.0097\n",
      "Epoch 46/100\n",
      "11/11 [==============================] - 2s 206ms/step - loss: 2.0158e-04 - val_loss: 0.0095\n",
      "Epoch 47/100\n",
      "11/11 [==============================] - 2s 208ms/step - loss: 2.0040e-04 - val_loss: 0.0095\n",
      "Epoch 48/100\n",
      "11/11 [==============================] - 2s 203ms/step - loss: 1.9773e-04 - val_loss: 0.0094\n",
      "Epoch 49/100\n",
      "11/11 [==============================] - 2s 210ms/step - loss: 1.9762e-04 - val_loss: 0.0097\n",
      "Epoch 50/100\n",
      "11/11 [==============================] - 2s 206ms/step - loss: 1.9504e-04 - val_loss: 0.0092\n",
      "Epoch 51/100\n",
      "11/11 [==============================] - 2s 205ms/step - loss: 1.9934e-04 - val_loss: 0.0091\n",
      "Epoch 52/100\n",
      "11/11 [==============================] - 2s 205ms/step - loss: 1.9796e-04 - val_loss: 0.0085\n",
      "Epoch 53/100\n",
      "11/11 [==============================] - 2s 207ms/step - loss: 1.9544e-04 - val_loss: 0.0093\n",
      "Epoch 54/100\n",
      "11/11 [==============================] - 2s 204ms/step - loss: 1.9806e-04 - val_loss: 0.0085\n",
      "Epoch 55/100\n",
      "11/11 [==============================] - 2s 207ms/step - loss: 1.8528e-04 - val_loss: 0.0093\n",
      "Epoch 56/100\n",
      "11/11 [==============================] - 2s 203ms/step - loss: 1.8725e-04 - val_loss: 0.0091\n",
      "Epoch 57/100\n",
      "11/11 [==============================] - 2s 203ms/step - loss: 2.1611e-04 - val_loss: 0.0081\n",
      "Epoch 58/100\n",
      "11/11 [==============================] - 2s 203ms/step - loss: 1.9378e-04 - val_loss: 0.0085\n",
      "Epoch 59/100\n",
      "11/11 [==============================] - 2s 200ms/step - loss: 1.9049e-04 - val_loss: 0.0088\n",
      "Epoch 60/100\n",
      "11/11 [==============================] - 2s 205ms/step - loss: 2.0631e-04 - val_loss: 0.0079\n",
      "Epoch 61/100\n",
      "11/11 [==============================] - 2s 205ms/step - loss: 1.7595e-04 - val_loss: 0.0089\n",
      "Epoch 62/100\n",
      "11/11 [==============================] - 2s 203ms/step - loss: 1.8534e-04 - val_loss: 0.0083\n",
      "Epoch 63/100\n",
      "11/11 [==============================] - 2s 201ms/step - loss: 1.7776e-04 - val_loss: 0.0087\n",
      "Epoch 64/100\n",
      "11/11 [==============================] - 2s 205ms/step - loss: 1.7325e-04 - val_loss: 0.0081\n",
      "Epoch 65/100\n",
      "11/11 [==============================] - 2s 208ms/step - loss: 1.7650e-04 - val_loss: 0.0081\n",
      "Epoch 66/100\n",
      "11/11 [==============================] - 2s 207ms/step - loss: 1.9341e-04 - val_loss: 0.0078\n",
      "Epoch 67/100\n",
      "11/11 [==============================] - 2s 208ms/step - loss: 1.6025e-04 - val_loss: 0.0076\n",
      "Epoch 68/100\n",
      "11/11 [==============================] - 2s 209ms/step - loss: 1.6446e-04 - val_loss: 0.0078\n",
      "Epoch 69/100\n",
      "11/11 [==============================] - 2s 207ms/step - loss: 1.6015e-04 - val_loss: 0.0079\n",
      "Epoch 70/100\n",
      "11/11 [==============================] - 2s 213ms/step - loss: 1.7251e-04 - val_loss: 0.0080\n",
      "Epoch 71/100\n",
      "11/11 [==============================] - 3s 246ms/step - loss: 1.5054e-04 - val_loss: 0.0082\n",
      "Epoch 72/100\n",
      "11/11 [==============================] - 3s 251ms/step - loss: 1.6730e-04 - val_loss: 0.0070\n",
      "Epoch 73/100\n",
      "11/11 [==============================] - 3s 261ms/step - loss: 1.5734e-04 - val_loss: 0.0076\n",
      "Epoch 74/100\n",
      "11/11 [==============================] - 3s 299ms/step - loss: 1.7125e-04 - val_loss: 0.0067\n",
      "Epoch 75/100\n",
      "11/11 [==============================] - 2s 212ms/step - loss: 1.5303e-04 - val_loss: 0.0070\n",
      "Epoch 76/100\n",
      "11/11 [==============================] - 2s 206ms/step - loss: 1.4833e-04 - val_loss: 0.0068\n",
      "Epoch 77/100\n",
      "11/11 [==============================] - 2s 215ms/step - loss: 1.3918e-04 - val_loss: 0.0070\n",
      "Epoch 78/100\n",
      "11/11 [==============================] - 2s 212ms/step - loss: 1.5717e-04 - val_loss: 0.0076\n",
      "Epoch 79/100\n",
      "11/11 [==============================] - 2s 208ms/step - loss: 1.7167e-04 - val_loss: 0.0060\n",
      "Epoch 80/100\n",
      "11/11 [==============================] - 2s 211ms/step - loss: 1.5656e-04 - val_loss: 0.0066\n",
      "Epoch 81/100\n",
      "11/11 [==============================] - 2s 211ms/step - loss: 1.4209e-04 - val_loss: 0.0066\n",
      "Epoch 82/100\n",
      "11/11 [==============================] - 2s 207ms/step - loss: 1.3319e-04 - val_loss: 0.0061\n",
      "Epoch 83/100\n",
      "11/11 [==============================] - 2s 211ms/step - loss: 1.4581e-04 - val_loss: 0.0070\n",
      "Epoch 84/100\n",
      "11/11 [==============================] - 2s 205ms/step - loss: 1.4656e-04 - val_loss: 0.0062\n",
      "Epoch 85/100\n",
      "11/11 [==============================] - 2s 216ms/step - loss: 1.2356e-04 - val_loss: 0.0058\n",
      "Epoch 86/100\n",
      "11/11 [==============================] - 2s 212ms/step - loss: 1.2133e-04 - val_loss: 0.0059\n",
      "Epoch 87/100\n",
      "11/11 [==============================] - 2s 213ms/step - loss: 1.3510e-04 - val_loss: 0.0056\n",
      "Epoch 88/100\n",
      "11/11 [==============================] - 2s 214ms/step - loss: 1.3523e-04 - val_loss: 0.0065\n",
      "Epoch 89/100\n",
      "11/11 [==============================] - 2s 216ms/step - loss: 1.4171e-04 - val_loss: 0.0051\n",
      "Epoch 90/100\n",
      "11/11 [==============================] - 2s 214ms/step - loss: 1.5198e-04 - val_loss: 0.0055\n",
      "Epoch 91/100\n",
      "11/11 [==============================] - 2s 207ms/step - loss: 1.1849e-04 - val_loss: 0.0056\n",
      "Epoch 92/100\n",
      "11/11 [==============================] - 2s 214ms/step - loss: 1.1613e-04 - val_loss: 0.0054\n",
      "Epoch 93/100\n",
      "11/11 [==============================] - 2s 207ms/step - loss: 1.2095e-04 - val_loss: 0.0056\n",
      "Epoch 94/100\n",
      "11/11 [==============================] - 2s 209ms/step - loss: 1.2039e-04 - val_loss: 0.0047\n",
      "Epoch 95/100\n",
      "11/11 [==============================] - 2s 214ms/step - loss: 1.2951e-04 - val_loss: 0.0055\n",
      "Epoch 96/100\n",
      "11/11 [==============================] - 2s 209ms/step - loss: 1.1424e-04 - val_loss: 0.0051\n",
      "Epoch 97/100\n",
      "11/11 [==============================] - 2s 209ms/step - loss: 1.1038e-04 - val_loss: 0.0049\n",
      "Epoch 98/100\n",
      "11/11 [==============================] - 2s 217ms/step - loss: 1.0683e-04 - val_loss: 0.0050\n",
      "Epoch 99/100\n",
      "11/11 [==============================] - 2s 206ms/step - loss: 1.0679e-04 - val_loss: 0.0047\n",
      "Epoch 100/100\n",
      "11/11 [==============================] - 2s 210ms/step - loss: 1.1162e-04 - val_loss: 0.0056\n"
     ]
    },
    {
     "data": {
      "text/plain": [
       "<keras.callbacks.History at 0x7f2fd7892410>"
      ]
     },
     "execution_count": 20,
     "metadata": {},
     "output_type": "execute_result"
    }
   ],
   "source": [
    "#train the model\n",
    "model.fit(X_train,y_train,validation_data=(X_test,ytest),epochs=100,batch_size=64,verbose=1)"
   ]
  },
  {
   "cell_type": "code",
   "execution_count": 21,
   "metadata": {
    "id": "ToeGFa-lrcRQ"
   },
   "outputs": [],
   "source": [
    "### Lets Do the prediction and check performance metrics\n",
    "train_predict=model.predict(X_train)\n",
    "test_predict=model.predict(X_test)"
   ]
  },
  {
   "cell_type": "code",
   "execution_count": 22,
   "metadata": {
    "id": "N8SytMxOrcRQ"
   },
   "outputs": [],
   "source": [
    "#get the models predicted price values\n",
    "##Transformback to original form\n",
    "train_predict=scaler.inverse_transform(train_predict)\n",
    "test_predict=scaler.inverse_transform(test_predict)"
   ]
  },
  {
   "cell_type": "code",
   "execution_count": 23,
   "metadata": {
    "colab": {
     "base_uri": "https://localhost:8080/"
    },
    "id": "9h_bkb8hrcRS",
    "outputId": "d89d752e-ace9-4675-fc84-7fad5064e5d1"
   },
   "outputs": [
    {
     "data": {
      "text/plain": [
       "183.10943986155704"
      ]
     },
     "execution_count": 23,
     "metadata": {},
     "output_type": "execute_result"
    }
   ],
   "source": [
    "### Calculate RMSE performance metrics\n",
    "import math\n",
    "from sklearn.metrics import mean_squared_error\n",
    "math.sqrt(mean_squared_error(y_train,train_predict))"
   ]
  },
  {
   "cell_type": "code",
   "execution_count": 24,
   "metadata": {
    "colab": {
     "base_uri": "https://localhost:8080/"
    },
    "id": "nBDUuQYzrcRT",
    "outputId": "ede430af-08c6-4e75-f895-2120fa4c7ca6"
   },
   "outputs": [
    {
     "data": {
      "text/plain": [
       "228.29386940045347"
      ]
     },
     "execution_count": 24,
     "metadata": {},
     "output_type": "execute_result"
    }
   ],
   "source": [
    "### Test Data RMSE\n",
    "math.sqrt(mean_squared_error(ytest,test_predict))"
   ]
  },
  {
   "cell_type": "code",
   "execution_count": 35,
   "metadata": {
    "colab": {
     "base_uri": "https://localhost:8080/",
     "height": 518
    },
    "id": "Gy08e-4xrcRU",
    "outputId": "f6e60216-6bd7-43db-dfd5-4a7937c3a115"
   },
   "outputs": [
    {
     "data": {
      "image/png": "[encoded data removed]",
      "text/plain": [
       "<Figure size 1152x576 with 1 Axes>"
      ]
     },
     "metadata": {
      "needs_background": "light"
     },
     "output_type": "display_data"
    }
   ],
   "source": [
    "### Plotting \n",
    "# shift train predictions for plotting\n",
    "look_back=100\n",
    "trainPredictPlot = numpy.empty_like(df1)\n",
    "trainPredictPlot[:, :] = np.nan\n",
    "trainPredictPlot[look_back:len(train_predict)+look_back, :] = train_predict\n",
    "# shift test predictions for plotting\n",
    "testPredictPlot = numpy.empty_like(df1)\n",
    "testPredictPlot[:, :] = numpy.nan\n",
    "testPredictPlot[len(train_predict)+(look_back*2)+1:len(df1)-1, :] = test_predict\n",
    "# plot baseline and predictions\n",
    "plt.figure(figsize=(16,8))\n",
    "plt.title('Model')\n",
    "plt.plot(df['close'])\n",
    "plt.xlabel('Date',fontsize=18)\n",
    "plt.ylabel('close price USD ($)', fontsize=18)\n",
    "plt.plot(scaler.inverse_transform(df1))\n",
    "plt.plot(trainPredictPlot)\n",
    "plt.plot(testPredictPlot)\n",
    "plt.legend(['data', 'train_prediction', 'test_prediction'], loc='upper right')\n",
    "plt.show()"
   ]
  },
  {
   "cell_type": "code",
   "execution_count": 31,
   "metadata": {
    "colab": {
     "base_uri": "https://localhost:8080/"
    },
    "id": "0Z3hF8KKrcRV",
    "outputId": "70c9c17e-c719-4ee2-899b-a901c5c7717b"
   },
   "outputs": [
    {
     "data": {
      "text/plain": [
       "503"
      ]
     },
     "execution_count": 31,
     "metadata": {},
     "output_type": "execute_result"
    }
   ],
   "source": [
    "len(test_data)"
   ]
  },
  {
   "cell_type": "code",
   "execution_count": 40,
   "metadata": {
    "colab": {
     "base_uri": "https://localhost:8080/"
    },
    "id": "WiJL_LQErcRW",
    "outputId": "268a672d-bdac-4b7a-fa65-66959ec9eff6"
   },
   "outputs": [
    {
     "data": {
      "text/plain": [
       "(1, 100)"
      ]
     },
     "execution_count": 40,
     "metadata": {},
     "output_type": "execute_result"
    }
   ],
   "source": [
    "x_input=test_data[403:].reshape(1,-1)\n",
    "x_input.shape"
   ]
  },
  {
   "cell_type": "code",
   "execution_count": 41,
   "metadata": {
    "colab": {
     "base_uri": "https://localhost:8080/"
    },
    "id": "Wn2w0N9nrcRX",
    "outputId": "cbb3e068-0fcf-4638-8a07-cad7121da3ce"
   },
   "outputs": [
    {
     "data": {
      "text/plain": [
       "[0.05279984015185574,\n",
       " 0.048878565362905246,\n",
       " 0.047205155102652496,\n",
       " 0.04638093810879668,\n",
       " 0.04832908736700137,\n",
       " 0.04453269394075632,\n",
       " 0.0504021179879115,\n",
       " 0.05042709426045261,\n",
       " 0.0525251011539038,\n",
       " 0.05349917578300617,\n",
       " 0.05095159598381538,\n",
       " 0.05404865377891005,\n",
       " 0.06186622708426992,\n",
       " 0.05976822019081868,\n",
       " 0.061042010090414156,\n",
       " 0.0651381187871522,\n",
       " 0.06181627453918781,\n",
       " 0.06641190868674762,\n",
       " 0.07060792247365,\n",
       " 0.06990858684249962,\n",
       " 0.06918427493880813,\n",
       " 0.06843498676257559,\n",
       " 0.07260602427693691,\n",
       " 0.07647734652080529,\n",
       " 0.07805085169089365,\n",
       " 0.07882511613966736,\n",
       " 0.08554373345321947,\n",
       " 0.09068884559668317,\n",
       " 0.09705779509466006,\n",
       " 0.09373595084669567,\n",
       " 0.09840651381187876,\n",
       " 0.09688296118687245,\n",
       " 0.09973025625655624,\n",
       " 0.10849692791847748,\n",
       " 0.10682351765822468,\n",
       " 0.1016034766971377,\n",
       " 0.09176282531594981,\n",
       " 0.10100404615615166,\n",
       " 0.09913082571557025,\n",
       " 0.1026275038713223,\n",
       " 0.1070233278385534,\n",
       " 0.1080973075578201,\n",
       " 0.10255257505369902,\n",
       " 0.0980818222688446,\n",
       " 0.09973025625655624,\n",
       " 0.10027973425246023,\n",
       " 0.0994305409860633,\n",
       " 0.10402617513362311,\n",
       " 0.10300214795943852,\n",
       " 0.10327688695739051,\n",
       " 0.10097906988361055,\n",
       " 0.10085418852090516,\n",
       " 0.0996303511663919,\n",
       " 0.10027973425246023,\n",
       " 0.10784754483240916,\n",
       " 0.10837204655577198,\n",
       " 0.1134172536090714,\n",
       " 0.11109446026275038,\n",
       " 0.10152854787951449,\n",
       " 0.10237774114591136,\n",
       " 0.10609920575453319,\n",
       " 0.10989559918077829,\n",
       " 0.10967081272790852,\n",
       " 0.10652380238773168,\n",
       " 0.1044757480393626,\n",
       " 0.10712323292871773,\n",
       " 0.1184125081172886,\n",
       " 0.11519056895948854,\n",
       " 0.11688895549228234,\n",
       " 0.11973625056196613,\n",
       " 0.12135970827713677,\n",
       " 0.12732903741445628,\n",
       " 0.12338278635296474,\n",
       " 0.12078525400869172,\n",
       " 0.10804735501273788,\n",
       " 0.10949597882012091,\n",
       " 0.10592437184674564,\n",
       " 0.10819721264798443,\n",
       " 0.10759778210699833,\n",
       " 0.10077925970328189,\n",
       " 0.09298666267046307,\n",
       " 0.09421050002497627,\n",
       " 0.10025475797991906,\n",
       " 0.10270243268894552,\n",
       " 0.10292721914181524,\n",
       " 0.09905589689794697,\n",
       " 0.09041410659873123,\n",
       " 0.09271192367251113,\n",
       " 0.08939007942454669,\n",
       " 0.09226235076677158,\n",
       " 0.08349567910485034,\n",
       " 0.08841600479544437,\n",
       " 0.090638893051601,\n",
       " 0.09386083220940106,\n",
       " 0.09288675758029874,\n",
       " 0.09266197112742897,\n",
       " 0.08941505569708774,\n",
       " 0.0879164793446226,\n",
       " 0.0950347170188321,\n",
       " 0.09773215445326944]"
      ]
     },
     "execution_count": 41,
     "metadata": {},
     "output_type": "execute_result"
    }
   ],
   "source": [
    "temp_input=list(x_input)\n",
    "temp_input=temp_input[0].tolist()\n",
    "temp_input"
   ]
  },
  {
   "cell_type": "code",
   "execution_count": 42,
   "metadata": {
    "colab": {
     "base_uri": "https://localhost:8080/"
    },
    "id": "GyaCs1MMrcRY",
    "outputId": "1c9c4947-e3cb-442f-b97b-69d1de15fd92"
   },
   "outputs": [
    {
     "name": "stdout",
     "output_type": "stream",
     "text": [
      "[0.09743973]\n",
      "101\n",
      "1 day input [0.04887857 0.04720516 0.04638094 0.04832909 0.04453269 0.05040212\n",
      " 0.05042709 0.0525251  0.05349918 0.0509516  0.05404865 0.06186623\n",
      " 0.05976822 0.06104201 0.06513812 0.06181627 0.06641191 0.07060792\n",
      " 0.06990859 0.06918427 0.06843499 0.07260602 0.07647735 0.07805085\n",
      " 0.07882512 0.08554373 0.09068885 0.0970578  0.09373595 0.09840651\n",
      " 0.09688296 0.09973026 0.10849693 0.10682352 0.10160348 0.09176283\n",
      " 0.10100405 0.09913083 0.1026275  0.10702333 0.10809731 0.10255258\n",
      " 0.09808182 0.09973026 0.10027973 0.09943054 0.10402618 0.10300215\n",
      " 0.10327689 0.10097907 0.10085419 0.09963035 0.10027973 0.10784754\n",
      " 0.10837205 0.11341725 0.11109446 0.10152855 0.10237774 0.10609921\n",
      " 0.1098956  0.10967081 0.1065238  0.10447575 0.10712323 0.11841251\n",
      " 0.11519057 0.11688896 0.11973625 0.12135971 0.12732904 0.12338279\n",
      " 0.12078525 0.10804736 0.10949598 0.10592437 0.10819721 0.10759778\n",
      " 0.10077926 0.09298666 0.0942105  0.10025476 0.10270243 0.10292722\n",
      " 0.0990559  0.09041411 0.09271192 0.08939008 0.09226235 0.08349568\n",
      " 0.088416   0.09063889 0.09386083 0.09288676 0.09266197 0.08941506\n",
      " 0.08791648 0.09503472 0.09773215 0.09743973]\n",
      "1 day output [[0.09862726]]\n",
      "2 day input [0.04720516 0.04638094 0.04832909 0.04453269 0.05040212 0.05042709\n",
      " 0.0525251  0.05349918 0.0509516  0.05404865 0.06186623 0.05976822\n",
      " 0.06104201 0.06513812 0.06181627 0.06641191 0.07060792 0.06990859\n",
      " 0.06918427 0.06843499 0.07260602 0.07647735 0.07805085 0.07882512\n",
      " 0.08554373 0.09068885 0.0970578  0.09373595 0.09840651 0.09688296\n",
      " 0.09973026 0.10849693 0.10682352 0.10160348 0.09176283 0.10100405\n",
      " 0.09913083 0.1026275  0.10702333 0.10809731 0.10255258 0.09808182\n",
      " 0.09973026 0.10027973 0.09943054 0.10402618 0.10300215 0.10327689\n",
      " 0.10097907 0.10085419 0.09963035 0.10027973 0.10784754 0.10837205\n",
      " 0.11341725 0.11109446 0.10152855 0.10237774 0.10609921 0.1098956\n",
      " 0.10967081 0.1065238  0.10447575 0.10712323 0.11841251 0.11519057\n",
      " 0.11688896 0.11973625 0.12135971 0.12732904 0.12338279 0.12078525\n",
      " 0.10804736 0.10949598 0.10592437 0.10819721 0.10759778 0.10077926\n",
      " 0.09298666 0.0942105  0.10025476 0.10270243 0.10292722 0.0990559\n",
      " 0.09041411 0.09271192 0.08939008 0.09226235 0.08349568 0.088416\n",
      " 0.09063889 0.09386083 0.09288676 0.09266197 0.08941506 0.08791648\n",
      " 0.09503472 0.09773215 0.09743973 0.09862726]\n",
      "2 day output [[0.10002226]]\n",
      "3 day input [0.04638094 0.04832909 0.04453269 0.05040212 0.05042709 0.0525251\n",
      " 0.05349918 0.0509516  0.05404865 0.06186623 0.05976822 0.06104201\n",
      " 0.06513812 0.06181627 0.06641191 0.07060792 0.06990859 0.06918427\n",
      " 0.06843499 0.07260602 0.07647735 0.07805085 0.07882512 0.08554373\n",
      " 0.09068885 0.0970578  0.09373595 0.09840651 0.09688296 0.09973026\n",
      " 0.10849693 0.10682352 0.10160348 0.09176283 0.10100405 0.09913083\n",
      " 0.1026275  0.10702333 0.10809731 0.10255258 0.09808182 0.09973026\n",
      " 0.10027973 0.09943054 0.10402618 0.10300215 0.10327689 0.10097907\n",
      " 0.10085419 0.09963035 0.10027973 0.10784754 0.10837205 0.11341725\n",
      " 0.11109446 0.10152855 0.10237774 0.10609921 0.1098956  0.10967081\n",
      " 0.1065238  0.10447575 0.10712323 0.11841251 0.11519057 0.11688896\n",
      " 0.11973625 0.12135971 0.12732904 0.12338279 0.12078525 0.10804736\n",
      " 0.10949598 0.10592437 0.10819721 0.10759778 0.10077926 0.09298666\n",
      " 0.0942105  0.10025476 0.10270243 0.10292722 0.0990559  0.09041411\n",
      " 0.09271192 0.08939008 0.09226235 0.08349568 0.088416   0.09063889\n",
      " 0.09386083 0.09288676 0.09266197 0.08941506 0.08791648 0.09503472\n",
      " 0.09773215 0.09743973 0.09862726 0.10002226]\n",
      "3 day output [[0.10143246]]\n",
      "4 day input [0.04832909 0.04453269 0.05040212 0.05042709 0.0525251  0.05349918\n",
      " 0.0509516  0.05404865 0.06186623 0.05976822 0.06104201 0.06513812\n",
      " 0.06181627 0.06641191 0.07060792 0.06990859 0.06918427 0.06843499\n",
      " 0.07260602 0.07647735 0.07805085 0.07882512 0.08554373 0.09068885\n",
      " 0.0970578  0.09373595 0.09840651 0.09688296 0.09973026 0.10849693\n",
      " 0.10682352 0.10160348 0.09176283 0.10100405 0.09913083 0.1026275\n",
      " 0.10702333 0.10809731 0.10255258 0.09808182 0.09973026 0.10027973\n",
      " 0.09943054 0.10402618 0.10300215 0.10327689 0.10097907 0.10085419\n",
      " 0.09963035 0.10027973 0.10784754 0.10837205 0.11341725 0.11109446\n",
      " 0.10152855 0.10237774 0.10609921 0.1098956  0.10967081 0.1065238\n",
      " 0.10447575 0.10712323 0.11841251 0.11519057 0.11688896 0.11973625\n",
      " 0.12135971 0.12732904 0.12338279 0.12078525 0.10804736 0.10949598\n",
      " 0.10592437 0.10819721 0.10759778 0.10077926 0.09298666 0.0942105\n",
      " 0.10025476 0.10270243 0.10292722 0.0990559  0.09041411 0.09271192\n",
      " 0.08939008 0.09226235 0.08349568 0.088416   0.09063889 0.09386083\n",
      " 0.09288676 0.09266197 0.08941506 0.08791648 0.09503472 0.09773215\n",
      " 0.09743973 0.09862726 0.10002226 0.10143246]\n",
      "4 day output [[0.10277204]]\n",
      "5 day input [0.04453269 0.05040212 0.05042709 0.0525251  0.05349918 0.0509516\n",
      " 0.05404865 0.06186623 0.05976822 0.06104201 0.06513812 0.06181627\n",
      " 0.06641191 0.07060792 0.06990859 0.06918427 0.06843499 0.07260602\n",
      " 0.07647735 0.07805085 0.07882512 0.08554373 0.09068885 0.0970578\n",
      " 0.09373595 0.09840651 0.09688296 0.09973026 0.10849693 0.10682352\n",
      " 0.10160348 0.09176283 0.10100405 0.09913083 0.1026275  0.10702333\n",
      " 0.10809731 0.10255258 0.09808182 0.09973026 0.10027973 0.09943054\n",
      " 0.10402618 0.10300215 0.10327689 0.10097907 0.10085419 0.09963035\n",
      " 0.10027973 0.10784754 0.10837205 0.11341725 0.11109446 0.10152855\n",
      " 0.10237774 0.10609921 0.1098956  0.10967081 0.1065238  0.10447575\n",
      " 0.10712323 0.11841251 0.11519057 0.11688896 0.11973625 0.12135971\n",
      " 0.12732904 0.12338279 0.12078525 0.10804736 0.10949598 0.10592437\n",
      " 0.10819721 0.10759778 0.10077926 0.09298666 0.0942105  0.10025476\n",
      " 0.10270243 0.10292722 0.0990559  0.09041411 0.09271192 0.08939008\n",
      " 0.09226235 0.08349568 0.088416   0.09063889 0.09386083 0.09288676\n",
      " 0.09266197 0.08941506 0.08791648 0.09503472 0.09773215 0.09743973\n",
      " 0.09862726 0.10002226 0.10143246 0.10277204]\n",
      "5 day output [[0.10401932]]\n",
      "6 day input [0.05040212 0.05042709 0.0525251  0.05349918 0.0509516  0.05404865\n",
      " 0.06186623 0.05976822 0.06104201 0.06513812 0.06181627 0.06641191\n",
      " 0.07060792 0.06990859 0.06918427 0.06843499 0.07260602 0.07647735\n",
      " 0.07805085 0.07882512 0.08554373 0.09068885 0.0970578  0.09373595\n",
      " 0.09840651 0.09688296 0.09973026 0.10849693 0.10682352 0.10160348\n",
      " 0.09176283 0.10100405 0.09913083 0.1026275  0.10702333 0.10809731\n",
      " 0.10255258 0.09808182 0.09973026 0.10027973 0.09943054 0.10402618\n",
      " 0.10300215 0.10327689 0.10097907 0.10085419 0.09963035 0.10027973\n",
      " 0.10784754 0.10837205 0.11341725 0.11109446 0.10152855 0.10237774\n",
      " 0.10609921 0.1098956  0.10967081 0.1065238  0.10447575 0.10712323\n",
      " 0.11841251 0.11519057 0.11688896 0.11973625 0.12135971 0.12732904\n",
      " 0.12338279 0.12078525 0.10804736 0.10949598 0.10592437 0.10819721\n",
      " 0.10759778 0.10077926 0.09298666 0.0942105  0.10025476 0.10270243\n",
      " 0.10292722 0.0990559  0.09041411 0.09271192 0.08939008 0.09226235\n",
      " 0.08349568 0.088416   0.09063889 0.09386083 0.09288676 0.09266197\n",
      " 0.08941506 0.08791648 0.09503472 0.09773215 0.09743973 0.09862726\n",
      " 0.10002226 0.10143246 0.10277204 0.10401932]\n",
      "6 day output [[0.10518181]]\n",
      "7 day input [0.05042709 0.0525251  0.05349918 0.0509516  0.05404865 0.06186623\n",
      " 0.05976822 0.06104201 0.06513812 0.06181627 0.06641191 0.07060792\n",
      " 0.06990859 0.06918427 0.06843499 0.07260602 0.07647735 0.07805085\n",
      " 0.07882512 0.08554373 0.09068885 0.0970578  0.09373595 0.09840651\n",
      " 0.09688296 0.09973026 0.10849693 0.10682352 0.10160348 0.09176283\n",
      " 0.10100405 0.09913083 0.1026275  0.10702333 0.10809731 0.10255258\n",
      " 0.09808182 0.09973026 0.10027973 0.09943054 0.10402618 0.10300215\n",
      " 0.10327689 0.10097907 0.10085419 0.09963035 0.10027973 0.10784754\n",
      " 0.10837205 0.11341725 0.11109446 0.10152855 0.10237774 0.10609921\n",
      " 0.1098956  0.10967081 0.1065238  0.10447575 0.10712323 0.11841251\n",
      " 0.11519057 0.11688896 0.11973625 0.12135971 0.12732904 0.12338279\n",
      " 0.12078525 0.10804736 0.10949598 0.10592437 0.10819721 0.10759778\n",
      " 0.10077926 0.09298666 0.0942105  0.10025476 0.10270243 0.10292722\n",
      " 0.0990559  0.09041411 0.09271192 0.08939008 0.09226235 0.08349568\n",
      " 0.088416   0.09063889 0.09386083 0.09288676 0.09266197 0.08941506\n",
      " 0.08791648 0.09503472 0.09773215 0.09743973 0.09862726 0.10002226\n",
      " 0.10143246 0.10277204 0.10401932 0.10518181]\n",
      "7 day output [[0.1062765]]\n",
      "8 day input [0.0525251  0.05349918 0.0509516  0.05404865 0.06186623 0.05976822\n",
      " 0.06104201 0.06513812 0.06181627 0.06641191 0.07060792 0.06990859\n",
      " 0.06918427 0.06843499 0.07260602 0.07647735 0.07805085 0.07882512\n",
      " 0.08554373 0.09068885 0.0970578  0.09373595 0.09840651 0.09688296\n",
      " 0.09973026 0.10849693 0.10682352 0.10160348 0.09176283 0.10100405\n",
      " 0.09913083 0.1026275  0.10702333 0.10809731 0.10255258 0.09808182\n",
      " 0.09973026 0.10027973 0.09943054 0.10402618 0.10300215 0.10327689\n",
      " 0.10097907 0.10085419 0.09963035 0.10027973 0.10784754 0.10837205\n",
      " 0.11341725 0.11109446 0.10152855 0.10237774 0.10609921 0.1098956\n",
      " 0.10967081 0.1065238  0.10447575 0.10712323 0.11841251 0.11519057\n",
      " 0.11688896 0.11973625 0.12135971 0.12732904 0.12338279 0.12078525\n",
      " 0.10804736 0.10949598 0.10592437 0.10819721 0.10759778 0.10077926\n",
      " 0.09298666 0.0942105  0.10025476 0.10270243 0.10292722 0.0990559\n",
      " 0.09041411 0.09271192 0.08939008 0.09226235 0.08349568 0.088416\n",
      " 0.09063889 0.09386083 0.09288676 0.09266197 0.08941506 0.08791648\n",
      " 0.09503472 0.09773215 0.09743973 0.09862726 0.10002226 0.10143246\n",
      " 0.10277204 0.10401932 0.10518181 0.1062765 ]\n",
      "8 day output [[0.1073215]]\n",
      "9 day input [0.05349918 0.0509516  0.05404865 0.06186623 0.05976822 0.06104201\n",
      " 0.06513812 0.06181627 0.06641191 0.07060792 0.06990859 0.06918427\n",
      " 0.06843499 0.07260602 0.07647735 0.07805085 0.07882512 0.08554373\n",
      " 0.09068885 0.0970578  0.09373595 0.09840651 0.09688296 0.09973026\n",
      " 0.10849693 0.10682352 0.10160348 0.09176283 0.10100405 0.09913083\n",
      " 0.1026275  0.10702333 0.10809731 0.10255258 0.09808182 0.09973026\n",
      " 0.10027973 0.09943054 0.10402618 0.10300215 0.10327689 0.10097907\n",
      " 0.10085419 0.09963035 0.10027973 0.10784754 0.10837205 0.11341725\n",
      " 0.11109446 0.10152855 0.10237774 0.10609921 0.1098956  0.10967081\n",
      " 0.1065238  0.10447575 0.10712323 0.11841251 0.11519057 0.11688896\n",
      " 0.11973625 0.12135971 0.12732904 0.12338279 0.12078525 0.10804736\n",
      " 0.10949598 0.10592437 0.10819721 0.10759778 0.10077926 0.09298666\n",
      " 0.0942105  0.10025476 0.10270243 0.10292722 0.0990559  0.09041411\n",
      " 0.09271192 0.08939008 0.09226235 0.08349568 0.088416   0.09063889\n",
      " 0.09386083 0.09288676 0.09266197 0.08941506 0.08791648 0.09503472\n",
      " 0.09773215 0.09743973 0.09862726 0.10002226 0.10143246 0.10277204\n",
      " 0.10401932 0.10518181 0.1062765  0.1073215 ]\n",
      "9 day output [[0.10833321]]\n",
      "[[0.0974397286772728], [0.09862726181745529], [0.10002226382493973], [0.10143245756626129], [0.10277204215526581], [0.10401932150125504], [0.10518180578947067], [0.1062765046954155], [0.10732150077819824], [0.10833320766687393]]\n"
     ]
    }
   ],
   "source": [
    "# demonstrate prediction for next 10 days\n",
    "from numpy import array\n",
    "\n",
    "lst_output=[]\n",
    "n_steps=100\n",
    "i=0\n",
    "while(i<10):\n",
    "    \n",
    "    if(len(temp_input)>100):\n",
    "        #print(temp_input)\n",
    "        x_input=np.array(temp_input[1:])\n",
    "        print(\"{} day input {}\".format(i,x_input))\n",
    "        x_input=x_input.reshape(1,-1)\n",
    "        x_input = x_input.reshape((1, n_steps, 1))\n",
    "        #print(x_input)\n",
    "        yhat = model.predict(x_input, verbose=0)\n",
    "        print(\"{} day output {}\".format(i,yhat))\n",
    "        temp_input.extend(yhat[0].tolist())\n",
    "        temp_input=temp_input[1:]\n",
    "        #print(temp_input)\n",
    "        lst_output.extend(yhat.tolist())\n",
    "        i=i+1\n",
    "    else:\n",
    "        x_input = x_input.reshape((1, n_steps,1))\n",
    "        yhat = model.predict(x_input, verbose=0)\n",
    "        print(yhat[0])\n",
    "        temp_input.extend(yhat[0].tolist())\n",
    "        print(len(temp_input))\n",
    "        lst_output.extend(yhat.tolist())\n",
    "        i=i+1\n",
    "    \n",
    "\n",
    "print(lst_output)"
   ]
  },
  {
   "cell_type": "code",
   "execution_count": 43,
   "metadata": {
    "id": "Vz3nqwr7rcRZ"
   },
   "outputs": [],
   "source": [
    "day_new=np.arange(1,101)\n",
    "day_pred=np.arange(101,111)"
   ]
  },
  {
   "cell_type": "code",
   "execution_count": 44,
   "metadata": {
    "colab": {
     "base_uri": "https://localhost:8080/"
    },
    "id": "FYBtI0NrrcRa",
    "outputId": "cb66a1d8-2a9a-4d59-8037-260a1e80c3ce"
   },
   "outputs": [
    {
     "data": {
      "text/plain": [
       "1257"
      ]
     },
     "execution_count": 44,
     "metadata": {},
     "output_type": "execute_result"
    }
   ],
   "source": [
    "len(df1)"
   ]
  },
  {
   "cell_type": "code",
   "execution_count": 46,
   "metadata": {
    "colab": {
     "base_uri": "https://localhost:8080/",
     "height": 279
    },
    "id": "ZEe0HYSjrcRb",
    "outputId": "2e8c1bfd-85f1-4374-ee50-b779b8aa97c8"
   },
   "outputs": [
    {
     "data": {
      "text/plain": [
       "[<matplotlib.lines.Line2D at 0x7f2fd2c03410>]"
      ]
     },
     "execution_count": 46,
     "metadata": {},
     "output_type": "execute_result"
    },
    {
     "data": {
      "image/png": "[encoded data removed]",
      "text/plain": [
       "<Figure size 432x288 with 1 Axes>"
      ]
     },
     "metadata": {
      "needs_background": "light"
     },
     "output_type": "display_data"
    }
   ],
   "source": [
    "plt.plot(day_new,scaler.inverse_transform(df1[1157:]))\n",
    "plt.plot(day_pred,scaler.inverse_transform(lst_output))"
   ]
  },
  {
   "cell_type": "code",
   "execution_count": 47,
   "metadata": {
    "colab": {
     "base_uri": "https://localhost:8080/",
     "height": 279
    },
    "id": "Jr_ftd3KrcRb",
    "outputId": "842f1190-e089-4cd7-e2c5-e93a7e857dea"
   },
   "outputs": [
    {
     "data": {
      "text/plain": [
       "[<matplotlib.lines.Line2D at 0x7f2fd360b610>]"
      ]
     },
     "execution_count": 47,
     "metadata": {},
     "output_type": "execute_result"
    },
    {
     "data": {
      "image/png": "[encoded data removed]",
      "text/plain": [
       "<Figure size 432x288 with 1 Axes>"
      ]
     },
     "metadata": {
      "needs_background": "light"
     },
     "output_type": "display_data"
    }
   ],
   "source": [
    "df3=df1.tolist()\n",
    "df3.extend(lst_output)\n",
    "plt.plot(df3[1200:])"
   ]
  },
  {
   "cell_type": "code",
   "execution_count": 48,
   "metadata": {
    "id": "oteAbV_srcRc"
   },
   "outputs": [],
   "source": [
    "df3=scaler.inverse_transform(df3).tolist()"
   ]
  },
  {
   "cell_type": "code",
   "execution_count": 49,
   "metadata": {
    "colab": {
     "base_uri": "https://localhost:8080/",
     "height": 279
    },
    "id": "5734woKkrcRc",
    "outputId": "82ca89c7-4afc-49f5-b951-dbeebce0c4b4"
   },
   "outputs": [
    {
     "data": {
      "text/plain": [
       "[<matplotlib.lines.Line2D at 0x7f2fd33a4410>]"
      ]
     },
     "execution_count": 49,
     "metadata": {},
     "output_type": "execute_result"
    },
    {
     "data": {
      "image/png": "[encoded data removed]",
      "text/plain": [
       "<Figure size 432x288 with 1 Axes>"
      ]
     },
     "metadata": {
      "needs_background": "light"
     },
     "output_type": "display_data"
    }
   ],
   "source": [
    "plt.plot(df3)"
   ]
  }
 ],
 "metadata": {
  "colab": {
   "name": "stock.ipynb",
   "provenance": []
  },
  "kernelspec": {
   "display_name": "Python 3",
   "language": "python",
   "name": "python3"
  },
  "language_info": {
   "codemirror_mode": {
    "name": "ipython",
    "version": 3
   },
   "file_extension": ".py",
   "mimetype": "text/x-python",
   "name": "python",
   "nbconvert_exporter": "python",
   "pygments_lexer": "ipython3",
   "version": "3.8.7"
  }
 },
 "nbformat": 4,
 "nbformat_minor": 1
}
